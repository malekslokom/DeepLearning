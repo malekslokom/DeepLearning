{
  "nbformat": 4,
  "nbformat_minor": 0,
  "metadata": {
    "colab": {
      "name": "Iris.ipynb",
      "provenance": [],
      "collapsed_sections": []
    },
    "kernelspec": {
      "name": "python3",
      "display_name": "Python 3"
    },
    "language_info": {
      "name": "python"
    }
  },
  "cells": [
    {
      "cell_type": "markdown",
      "source": [
        "## Import libraries\n"
      ],
      "metadata": {
        "id": "kO9PqqhACuhA"
      }
    },
    {
      "cell_type": "code",
      "execution_count": 22,
      "metadata": {
        "id": "rgzsf_0BB2A8"
      },
      "outputs": [],
      "source": [
        "import pandas as pd\n",
        "from sklearn import datasets\n",
        "from sklearn.model_selection import train_test_split\n",
        "from keras.models import Sequential\n",
        "import matplotlib.pyplot as plt\n",
        "from sklearn.preprocessing import LabelEncoder\n",
        "from tensorflow.keras.utils import to_categorical\n",
        "from keras.layers import Activation, Dense\n"
      ]
    },
    {
      "cell_type": "code",
      "source": [
        "#load dataset\n",
        "iris=datasets.load_iris()\n",
        "#features\n",
        "x=iris.data[:, :]\n",
        "#target\n",
        "y=iris.target\n"
      ],
      "metadata": {
        "colab": {
          "base_uri": "https://localhost:8080/"
        },
        "id": "1g7uDvBfCtWN",
        "outputId": "1edcebd3-bfcf-4a2f-e198-97a1acb5165d"
      },
      "execution_count": 10,
      "outputs": [
        {
          "output_type": "stream",
          "name": "stdout",
          "text": [
            "[0 0 0 0 0 0 0 0 0 0 0 0 0 0 0 0 0 0 0 0 0 0 0 0 0 0 0 0 0 0 0 0 0 0 0 0 0\n",
            " 0 0 0 0 0 0 0 0 0 0 0 0 0 1 1 1 1 1 1 1 1 1 1 1 1 1 1 1 1 1 1 1 1 1 1 1 1\n",
            " 1 1 1 1 1 1 1 1 1 1 1 1 1 1 1 1 1 1 1 1 1 1 1 1 1 1 2 2 2 2 2 2 2 2 2 2 2\n",
            " 2 2 2 2 2 2 2 2 2 2 2 2 2 2 2 2 2 2 2 2 2 2 2 2 2 2 2 2 2 2 2 2 2 2 2 2 2\n",
            " 2 2]\n"
          ]
        }
      ]
    },
    {
      "cell_type": "markdown",
      "source": [
        "## Preprocessing"
      ],
      "metadata": {
        "id": "PY0i7UL_E17d"
      }
    },
    {
      "cell_type": "code",
      "source": [
        "#encoder class values as integers\n",
        "encoder=LabelEncoder()\n",
        "encoder.fit(y)\n",
        "encoded_y=encoder.transform(y)\n",
        "# convert integers to dummy varibles\n",
        "y=to_categorical(encoded_y)"
      ],
      "metadata": {
        "id": "G6BYhzEHD7do"
      },
      "execution_count": 14,
      "outputs": []
    },
    {
      "cell_type": "code",
      "source": [
        "print(y)"
      ],
      "metadata": {
        "colab": {
          "base_uri": "https://localhost:8080/"
        },
        "id": "PZix8Y-nFZmZ",
        "outputId": "aa69ee04-23fa-4940-fb65-6fb01a38c309"
      },
      "execution_count": 15,
      "outputs": [
        {
          "output_type": "stream",
          "name": "stdout",
          "text": [
            "[[1. 0. 0.]\n",
            " [1. 0. 0.]\n",
            " [1. 0. 0.]\n",
            " [1. 0. 0.]\n",
            " [1. 0. 0.]\n",
            " [1. 0. 0.]\n",
            " [1. 0. 0.]\n",
            " [1. 0. 0.]\n",
            " [1. 0. 0.]\n",
            " [1. 0. 0.]\n",
            " [1. 0. 0.]\n",
            " [1. 0. 0.]\n",
            " [1. 0. 0.]\n",
            " [1. 0. 0.]\n",
            " [1. 0. 0.]\n",
            " [1. 0. 0.]\n",
            " [1. 0. 0.]\n",
            " [1. 0. 0.]\n",
            " [1. 0. 0.]\n",
            " [1. 0. 0.]\n",
            " [1. 0. 0.]\n",
            " [1. 0. 0.]\n",
            " [1. 0. 0.]\n",
            " [1. 0. 0.]\n",
            " [1. 0. 0.]\n",
            " [1. 0. 0.]\n",
            " [1. 0. 0.]\n",
            " [1. 0. 0.]\n",
            " [1. 0. 0.]\n",
            " [1. 0. 0.]\n",
            " [1. 0. 0.]\n",
            " [1. 0. 0.]\n",
            " [1. 0. 0.]\n",
            " [1. 0. 0.]\n",
            " [1. 0. 0.]\n",
            " [1. 0. 0.]\n",
            " [1. 0. 0.]\n",
            " [1. 0. 0.]\n",
            " [1. 0. 0.]\n",
            " [1. 0. 0.]\n",
            " [1. 0. 0.]\n",
            " [1. 0. 0.]\n",
            " [1. 0. 0.]\n",
            " [1. 0. 0.]\n",
            " [1. 0. 0.]\n",
            " [1. 0. 0.]\n",
            " [1. 0. 0.]\n",
            " [1. 0. 0.]\n",
            " [1. 0. 0.]\n",
            " [1. 0. 0.]\n",
            " [0. 1. 0.]\n",
            " [0. 1. 0.]\n",
            " [0. 1. 0.]\n",
            " [0. 1. 0.]\n",
            " [0. 1. 0.]\n",
            " [0. 1. 0.]\n",
            " [0. 1. 0.]\n",
            " [0. 1. 0.]\n",
            " [0. 1. 0.]\n",
            " [0. 1. 0.]\n",
            " [0. 1. 0.]\n",
            " [0. 1. 0.]\n",
            " [0. 1. 0.]\n",
            " [0. 1. 0.]\n",
            " [0. 1. 0.]\n",
            " [0. 1. 0.]\n",
            " [0. 1. 0.]\n",
            " [0. 1. 0.]\n",
            " [0. 1. 0.]\n",
            " [0. 1. 0.]\n",
            " [0. 1. 0.]\n",
            " [0. 1. 0.]\n",
            " [0. 1. 0.]\n",
            " [0. 1. 0.]\n",
            " [0. 1. 0.]\n",
            " [0. 1. 0.]\n",
            " [0. 1. 0.]\n",
            " [0. 1. 0.]\n",
            " [0. 1. 0.]\n",
            " [0. 1. 0.]\n",
            " [0. 1. 0.]\n",
            " [0. 1. 0.]\n",
            " [0. 1. 0.]\n",
            " [0. 1. 0.]\n",
            " [0. 1. 0.]\n",
            " [0. 1. 0.]\n",
            " [0. 1. 0.]\n",
            " [0. 1. 0.]\n",
            " [0. 1. 0.]\n",
            " [0. 1. 0.]\n",
            " [0. 1. 0.]\n",
            " [0. 1. 0.]\n",
            " [0. 1. 0.]\n",
            " [0. 1. 0.]\n",
            " [0. 1. 0.]\n",
            " [0. 1. 0.]\n",
            " [0. 1. 0.]\n",
            " [0. 1. 0.]\n",
            " [0. 1. 0.]\n",
            " [0. 1. 0.]\n",
            " [0. 0. 1.]\n",
            " [0. 0. 1.]\n",
            " [0. 0. 1.]\n",
            " [0. 0. 1.]\n",
            " [0. 0. 1.]\n",
            " [0. 0. 1.]\n",
            " [0. 0. 1.]\n",
            " [0. 0. 1.]\n",
            " [0. 0. 1.]\n",
            " [0. 0. 1.]\n",
            " [0. 0. 1.]\n",
            " [0. 0. 1.]\n",
            " [0. 0. 1.]\n",
            " [0. 0. 1.]\n",
            " [0. 0. 1.]\n",
            " [0. 0. 1.]\n",
            " [0. 0. 1.]\n",
            " [0. 0. 1.]\n",
            " [0. 0. 1.]\n",
            " [0. 0. 1.]\n",
            " [0. 0. 1.]\n",
            " [0. 0. 1.]\n",
            " [0. 0. 1.]\n",
            " [0. 0. 1.]\n",
            " [0. 0. 1.]\n",
            " [0. 0. 1.]\n",
            " [0. 0. 1.]\n",
            " [0. 0. 1.]\n",
            " [0. 0. 1.]\n",
            " [0. 0. 1.]\n",
            " [0. 0. 1.]\n",
            " [0. 0. 1.]\n",
            " [0. 0. 1.]\n",
            " [0. 0. 1.]\n",
            " [0. 0. 1.]\n",
            " [0. 0. 1.]\n",
            " [0. 0. 1.]\n",
            " [0. 0. 1.]\n",
            " [0. 0. 1.]\n",
            " [0. 0. 1.]\n",
            " [0. 0. 1.]\n",
            " [0. 0. 1.]\n",
            " [0. 0. 1.]\n",
            " [0. 0. 1.]\n",
            " [0. 0. 1.]\n",
            " [0. 0. 1.]\n",
            " [0. 0. 1.]\n",
            " [0. 0. 1.]\n",
            " [0. 0. 1.]\n",
            " [0. 0. 1.]]\n"
          ]
        }
      ]
    },
    {
      "cell_type": "markdown",
      "source": [
        "## Split"
      ],
      "metadata": {
        "id": "pFjD7NZCFpd_"
      }
    },
    {
      "cell_type": "code",
      "source": [
        "X_train,X_test,y_train,y_test=train_test_split(x,y,test_size=0.1)\n",
        "X_model,X_valid,y_model,y_valid=train_test_split(X_train,y_train,test_size=0.2)"
      ],
      "metadata": {
        "id": "8IpbAowJFkdl"
      },
      "execution_count": 16,
      "outputs": []
    },
    {
      "cell_type": "markdown",
      "source": [
        "## Define the model"
      ],
      "metadata": {
        "id": "oLT1azc7GvBP"
      }
    },
    {
      "cell_type": "markdown",
      "source": [
        "This is an ANN where:\n",
        "\n",
        "\n",
        "*   The first hidden layer has 16 neurons\n",
        "*   Having 4 features so the input dimension is 4\n",
        "\n",
        "\n",
        "*   The output layer has 3 neurons since we have 3 species of flowers\n",
        "\n",
        "\n",
        "\n",
        "\n",
        "\n"
      ],
      "metadata": {
        "id": "wgOaH4SaGykX"
      }
    },
    {
      "cell_type": "code",
      "source": [
        "#Neural network\n",
        "model=Sequential([\n",
        "                  Dense(16,input_dim=4,activation='relu'),\n",
        "                  Dense(3,activation=\"softmax\")\n",
        "])"
      ],
      "metadata": {
        "id": "MPx2qFLyGTK3"
      },
      "execution_count": 23,
      "outputs": []
    },
    {
      "cell_type": "markdown",
      "source": [
        "## Compile and fit"
      ],
      "metadata": {
        "id": "pw6RJdgdKfAn"
      }
    },
    {
      "cell_type": "code",
      "source": [
        "model.compile(loss=\"categorical_crossentropy\",optimizer=\"adam\",metrics=[\"accuracy\"])#configure the model for training\n",
        "history=model.fit(X_model,y_model,validation_data=(X_valid,y_valid),epochs=150)#training"
      ],
      "metadata": {
        "colab": {
          "base_uri": "https://localhost:8080/"
        },
        "id": "4RA7kdQSHSZQ",
        "outputId": "0c8ef476-5e1d-405d-f4c8-b60cdb06639f"
      },
      "execution_count": 25,
      "outputs": [
        {
          "output_type": "stream",
          "name": "stdout",
          "text": [
            "Epoch 1/150\n",
            "4/4 [==============================] - 1s 64ms/step - loss: 1.7603 - accuracy: 0.3426 - val_loss: 1.5261 - val_accuracy: 0.3333\n",
            "Epoch 2/150\n",
            "4/4 [==============================] - 0s 8ms/step - loss: 1.6272 - accuracy: 0.3426 - val_loss: 1.4097 - val_accuracy: 0.3333\n",
            "Epoch 3/150\n",
            "4/4 [==============================] - 0s 7ms/step - loss: 1.4881 - accuracy: 0.3426 - val_loss: 1.3032 - val_accuracy: 0.3333\n",
            "Epoch 4/150\n",
            "4/4 [==============================] - 0s 8ms/step - loss: 1.3760 - accuracy: 0.3426 - val_loss: 1.2053 - val_accuracy: 0.3333\n",
            "Epoch 5/150\n",
            "4/4 [==============================] - 0s 9ms/step - loss: 1.2663 - accuracy: 0.3426 - val_loss: 1.1190 - val_accuracy: 0.3333\n",
            "Epoch 6/150\n",
            "4/4 [==============================] - 0s 8ms/step - loss: 1.1643 - accuracy: 0.3426 - val_loss: 1.0440 - val_accuracy: 0.3333\n",
            "Epoch 7/150\n",
            "4/4 [==============================] - 0s 8ms/step - loss: 1.0734 - accuracy: 0.3426 - val_loss: 0.9845 - val_accuracy: 0.3333\n",
            "Epoch 8/150\n",
            "4/4 [==============================] - 0s 8ms/step - loss: 1.0066 - accuracy: 0.4167 - val_loss: 0.9390 - val_accuracy: 0.4815\n",
            "Epoch 9/150\n",
            "4/4 [==============================] - 0s 9ms/step - loss: 0.9531 - accuracy: 0.6019 - val_loss: 0.9034 - val_accuracy: 0.6667\n",
            "Epoch 10/150\n",
            "4/4 [==============================] - 0s 8ms/step - loss: 0.9114 - accuracy: 0.6389 - val_loss: 0.8759 - val_accuracy: 0.7037\n",
            "Epoch 11/150\n",
            "4/4 [==============================] - 0s 8ms/step - loss: 0.8784 - accuracy: 0.6574 - val_loss: 0.8554 - val_accuracy: 0.7037\n",
            "Epoch 12/150\n",
            "4/4 [==============================] - 0s 9ms/step - loss: 0.8583 - accuracy: 0.6574 - val_loss: 0.8390 - val_accuracy: 0.7407\n",
            "Epoch 13/150\n",
            "4/4 [==============================] - 0s 9ms/step - loss: 0.8385 - accuracy: 0.6667 - val_loss: 0.8247 - val_accuracy: 0.7407\n",
            "Epoch 14/150\n",
            "4/4 [==============================] - 0s 11ms/step - loss: 0.8219 - accuracy: 0.6944 - val_loss: 0.8098 - val_accuracy: 0.7407\n",
            "Epoch 15/150\n",
            "4/4 [==============================] - 0s 8ms/step - loss: 0.8071 - accuracy: 0.7315 - val_loss: 0.7973 - val_accuracy: 0.7778\n",
            "Epoch 16/150\n",
            "4/4 [==============================] - 0s 9ms/step - loss: 0.7946 - accuracy: 0.7963 - val_loss: 0.7850 - val_accuracy: 0.8148\n",
            "Epoch 17/150\n",
            "4/4 [==============================] - 0s 8ms/step - loss: 0.7828 - accuracy: 0.8148 - val_loss: 0.7735 - val_accuracy: 0.8889\n",
            "Epoch 18/150\n",
            "4/4 [==============================] - 0s 9ms/step - loss: 0.7719 - accuracy: 0.7963 - val_loss: 0.7616 - val_accuracy: 0.8148\n",
            "Epoch 19/150\n",
            "4/4 [==============================] - 0s 8ms/step - loss: 0.7603 - accuracy: 0.8241 - val_loss: 0.7511 - val_accuracy: 0.8148\n",
            "Epoch 20/150\n",
            "4/4 [==============================] - 0s 8ms/step - loss: 0.7501 - accuracy: 0.8148 - val_loss: 0.7401 - val_accuracy: 0.7778\n",
            "Epoch 21/150\n",
            "4/4 [==============================] - 0s 8ms/step - loss: 0.7397 - accuracy: 0.8148 - val_loss: 0.7296 - val_accuracy: 0.7407\n",
            "Epoch 22/150\n",
            "4/4 [==============================] - 0s 9ms/step - loss: 0.7313 - accuracy: 0.7593 - val_loss: 0.7179 - val_accuracy: 0.7407\n",
            "Epoch 23/150\n",
            "4/4 [==============================] - 0s 9ms/step - loss: 0.7208 - accuracy: 0.7315 - val_loss: 0.7082 - val_accuracy: 0.7407\n",
            "Epoch 24/150\n",
            "4/4 [==============================] - 0s 8ms/step - loss: 0.7124 - accuracy: 0.7037 - val_loss: 0.6987 - val_accuracy: 0.7407\n",
            "Epoch 25/150\n",
            "4/4 [==============================] - 0s 8ms/step - loss: 0.7045 - accuracy: 0.6944 - val_loss: 0.6893 - val_accuracy: 0.7407\n",
            "Epoch 26/150\n",
            "4/4 [==============================] - 0s 8ms/step - loss: 0.6958 - accuracy: 0.6944 - val_loss: 0.6813 - val_accuracy: 0.7407\n",
            "Epoch 27/150\n",
            "4/4 [==============================] - 0s 10ms/step - loss: 0.6880 - accuracy: 0.6944 - val_loss: 0.6734 - val_accuracy: 0.7407\n",
            "Epoch 28/150\n",
            "4/4 [==============================] - 0s 8ms/step - loss: 0.6804 - accuracy: 0.7037 - val_loss: 0.6658 - val_accuracy: 0.7407\n",
            "Epoch 29/150\n",
            "4/4 [==============================] - 0s 8ms/step - loss: 0.6729 - accuracy: 0.7037 - val_loss: 0.6575 - val_accuracy: 0.7407\n",
            "Epoch 30/150\n",
            "4/4 [==============================] - 0s 9ms/step - loss: 0.6658 - accuracy: 0.7037 - val_loss: 0.6497 - val_accuracy: 0.7407\n",
            "Epoch 31/150\n",
            "4/4 [==============================] - 0s 10ms/step - loss: 0.6593 - accuracy: 0.7130 - val_loss: 0.6424 - val_accuracy: 0.7407\n",
            "Epoch 32/150\n",
            "4/4 [==============================] - 0s 8ms/step - loss: 0.6522 - accuracy: 0.7222 - val_loss: 0.6359 - val_accuracy: 0.7407\n",
            "Epoch 33/150\n",
            "4/4 [==============================] - 0s 8ms/step - loss: 0.6456 - accuracy: 0.7037 - val_loss: 0.6296 - val_accuracy: 0.7407\n",
            "Epoch 34/150\n",
            "4/4 [==============================] - 0s 8ms/step - loss: 0.6393 - accuracy: 0.7037 - val_loss: 0.6237 - val_accuracy: 0.7407\n",
            "Epoch 35/150\n",
            "4/4 [==============================] - 0s 9ms/step - loss: 0.6334 - accuracy: 0.7037 - val_loss: 0.6172 - val_accuracy: 0.7407\n",
            "Epoch 36/150\n",
            "4/4 [==============================] - 0s 9ms/step - loss: 0.6276 - accuracy: 0.7037 - val_loss: 0.6109 - val_accuracy: 0.7407\n",
            "Epoch 37/150\n",
            "4/4 [==============================] - 0s 9ms/step - loss: 0.6220 - accuracy: 0.7315 - val_loss: 0.6063 - val_accuracy: 0.7778\n",
            "Epoch 38/150\n",
            "4/4 [==============================] - 0s 8ms/step - loss: 0.6156 - accuracy: 0.7593 - val_loss: 0.6002 - val_accuracy: 0.7407\n",
            "Epoch 39/150\n",
            "4/4 [==============================] - 0s 8ms/step - loss: 0.6105 - accuracy: 0.7407 - val_loss: 0.5939 - val_accuracy: 0.7407\n",
            "Epoch 40/150\n",
            "4/4 [==============================] - 0s 9ms/step - loss: 0.6055 - accuracy: 0.7130 - val_loss: 0.5875 - val_accuracy: 0.7407\n",
            "Epoch 41/150\n",
            "4/4 [==============================] - 0s 8ms/step - loss: 0.6006 - accuracy: 0.6944 - val_loss: 0.5814 - val_accuracy: 0.7407\n",
            "Epoch 42/150\n",
            "4/4 [==============================] - 0s 8ms/step - loss: 0.5957 - accuracy: 0.7037 - val_loss: 0.5762 - val_accuracy: 0.7407\n",
            "Epoch 43/150\n",
            "4/4 [==============================] - 0s 11ms/step - loss: 0.5903 - accuracy: 0.7222 - val_loss: 0.5713 - val_accuracy: 0.7407\n",
            "Epoch 44/150\n",
            "4/4 [==============================] - 0s 9ms/step - loss: 0.5853 - accuracy: 0.7500 - val_loss: 0.5668 - val_accuracy: 0.7778\n",
            "Epoch 45/150\n",
            "4/4 [==============================] - 0s 8ms/step - loss: 0.5806 - accuracy: 0.8148 - val_loss: 0.5621 - val_accuracy: 0.7778\n",
            "Epoch 46/150\n",
            "4/4 [==============================] - 0s 8ms/step - loss: 0.5760 - accuracy: 0.8333 - val_loss: 0.5576 - val_accuracy: 0.8148\n",
            "Epoch 47/150\n",
            "4/4 [==============================] - 0s 9ms/step - loss: 0.5714 - accuracy: 0.8519 - val_loss: 0.5530 - val_accuracy: 0.8148\n",
            "Epoch 48/150\n",
            "4/4 [==============================] - 0s 8ms/step - loss: 0.5676 - accuracy: 0.8241 - val_loss: 0.5481 - val_accuracy: 0.7778\n",
            "Epoch 49/150\n",
            "4/4 [==============================] - 0s 8ms/step - loss: 0.5634 - accuracy: 0.8241 - val_loss: 0.5435 - val_accuracy: 0.8148\n",
            "Epoch 50/150\n",
            "4/4 [==============================] - 0s 8ms/step - loss: 0.5593 - accuracy: 0.8241 - val_loss: 0.5390 - val_accuracy: 0.7778\n",
            "Epoch 51/150\n",
            "4/4 [==============================] - 0s 8ms/step - loss: 0.5549 - accuracy: 0.8241 - val_loss: 0.5358 - val_accuracy: 0.7778\n",
            "Epoch 52/150\n",
            "4/4 [==============================] - 0s 8ms/step - loss: 0.5508 - accuracy: 0.8241 - val_loss: 0.5327 - val_accuracy: 0.8148\n",
            "Epoch 53/150\n",
            "4/4 [==============================] - 0s 9ms/step - loss: 0.5472 - accuracy: 0.8426 - val_loss: 0.5296 - val_accuracy: 0.8519\n",
            "Epoch 54/150\n",
            "4/4 [==============================] - 0s 8ms/step - loss: 0.5433 - accuracy: 0.8704 - val_loss: 0.5261 - val_accuracy: 0.8148\n",
            "Epoch 55/150\n",
            "4/4 [==============================] - 0s 10ms/step - loss: 0.5395 - accuracy: 0.8704 - val_loss: 0.5228 - val_accuracy: 0.8519\n",
            "Epoch 56/150\n",
            "4/4 [==============================] - 0s 8ms/step - loss: 0.5356 - accuracy: 0.8704 - val_loss: 0.5202 - val_accuracy: 0.8889\n",
            "Epoch 57/150\n",
            "4/4 [==============================] - 0s 8ms/step - loss: 0.5334 - accuracy: 0.9167 - val_loss: 0.5183 - val_accuracy: 0.9259\n",
            "Epoch 58/150\n",
            "4/4 [==============================] - 0s 9ms/step - loss: 0.5298 - accuracy: 0.9259 - val_loss: 0.5143 - val_accuracy: 0.8889\n",
            "Epoch 59/150\n",
            "4/4 [==============================] - 0s 9ms/step - loss: 0.5260 - accuracy: 0.9167 - val_loss: 0.5093 - val_accuracy: 0.8889\n",
            "Epoch 60/150\n",
            "4/4 [==============================] - 0s 8ms/step - loss: 0.5228 - accuracy: 0.9167 - val_loss: 0.5042 - val_accuracy: 0.8889\n",
            "Epoch 61/150\n",
            "4/4 [==============================] - 0s 10ms/step - loss: 0.5191 - accuracy: 0.8796 - val_loss: 0.5003 - val_accuracy: 0.8519\n",
            "Epoch 62/150\n",
            "4/4 [==============================] - 0s 8ms/step - loss: 0.5163 - accuracy: 0.8704 - val_loss: 0.4967 - val_accuracy: 0.8519\n",
            "Epoch 63/150\n",
            "4/4 [==============================] - 0s 9ms/step - loss: 0.5133 - accuracy: 0.8704 - val_loss: 0.4934 - val_accuracy: 0.8519\n",
            "Epoch 64/150\n",
            "4/4 [==============================] - 0s 9ms/step - loss: 0.5106 - accuracy: 0.8704 - val_loss: 0.4910 - val_accuracy: 0.8889\n",
            "Epoch 65/150\n",
            "4/4 [==============================] - 0s 10ms/step - loss: 0.5069 - accuracy: 0.8796 - val_loss: 0.4882 - val_accuracy: 0.8889\n",
            "Epoch 66/150\n",
            "4/4 [==============================] - 0s 8ms/step - loss: 0.5039 - accuracy: 0.8889 - val_loss: 0.4857 - val_accuracy: 0.8889\n",
            "Epoch 67/150\n",
            "4/4 [==============================] - 0s 8ms/step - loss: 0.5014 - accuracy: 0.9259 - val_loss: 0.4835 - val_accuracy: 0.8889\n",
            "Epoch 68/150\n",
            "4/4 [==============================] - 0s 8ms/step - loss: 0.4983 - accuracy: 0.9259 - val_loss: 0.4807 - val_accuracy: 0.8889\n",
            "Epoch 69/150\n",
            "4/4 [==============================] - 0s 8ms/step - loss: 0.4956 - accuracy: 0.9259 - val_loss: 0.4773 - val_accuracy: 0.8889\n",
            "Epoch 70/150\n",
            "4/4 [==============================] - 0s 9ms/step - loss: 0.4927 - accuracy: 0.9259 - val_loss: 0.4741 - val_accuracy: 0.8889\n",
            "Epoch 71/150\n",
            "4/4 [==============================] - 0s 8ms/step - loss: 0.4906 - accuracy: 0.9074 - val_loss: 0.4705 - val_accuracy: 0.8889\n",
            "Epoch 72/150\n",
            "4/4 [==============================] - 0s 11ms/step - loss: 0.4875 - accuracy: 0.9167 - val_loss: 0.4682 - val_accuracy: 0.8889\n",
            "Epoch 73/150\n",
            "4/4 [==============================] - 0s 8ms/step - loss: 0.4847 - accuracy: 0.8981 - val_loss: 0.4652 - val_accuracy: 0.8889\n",
            "Epoch 74/150\n",
            "4/4 [==============================] - 0s 8ms/step - loss: 0.4821 - accuracy: 0.8889 - val_loss: 0.4624 - val_accuracy: 0.8889\n",
            "Epoch 75/150\n",
            "4/4 [==============================] - 0s 8ms/step - loss: 0.4794 - accuracy: 0.8889 - val_loss: 0.4604 - val_accuracy: 0.8889\n",
            "Epoch 76/150\n",
            "4/4 [==============================] - 0s 8ms/step - loss: 0.4774 - accuracy: 0.9259 - val_loss: 0.4585 - val_accuracy: 0.8889\n",
            "Epoch 77/150\n",
            "4/4 [==============================] - 0s 8ms/step - loss: 0.4745 - accuracy: 0.9259 - val_loss: 0.4557 - val_accuracy: 0.8889\n",
            "Epoch 78/150\n",
            "4/4 [==============================] - 0s 8ms/step - loss: 0.4721 - accuracy: 0.9259 - val_loss: 0.4532 - val_accuracy: 0.8889\n",
            "Epoch 79/150\n",
            "4/4 [==============================] - 0s 11ms/step - loss: 0.4700 - accuracy: 0.9167 - val_loss: 0.4503 - val_accuracy: 0.8889\n",
            "Epoch 80/150\n",
            "4/4 [==============================] - 0s 8ms/step - loss: 0.4671 - accuracy: 0.9259 - val_loss: 0.4482 - val_accuracy: 0.8889\n",
            "Epoch 81/150\n",
            "4/4 [==============================] - 0s 9ms/step - loss: 0.4650 - accuracy: 0.9074 - val_loss: 0.4461 - val_accuracy: 0.8889\n",
            "Epoch 82/150\n",
            "4/4 [==============================] - 0s 10ms/step - loss: 0.4622 - accuracy: 0.9259 - val_loss: 0.4444 - val_accuracy: 0.8889\n",
            "Epoch 83/150\n",
            "4/4 [==============================] - 0s 9ms/step - loss: 0.4600 - accuracy: 0.9259 - val_loss: 0.4428 - val_accuracy: 0.8889\n",
            "Epoch 84/150\n",
            "4/4 [==============================] - 0s 9ms/step - loss: 0.4581 - accuracy: 0.9444 - val_loss: 0.4413 - val_accuracy: 0.9259\n",
            "Epoch 85/150\n",
            "4/4 [==============================] - 0s 8ms/step - loss: 0.4569 - accuracy: 0.9630 - val_loss: 0.4396 - val_accuracy: 0.9259\n",
            "Epoch 86/150\n",
            "4/4 [==============================] - 0s 8ms/step - loss: 0.4538 - accuracy: 0.9630 - val_loss: 0.4364 - val_accuracy: 0.9259\n",
            "Epoch 87/150\n",
            "4/4 [==============================] - 0s 8ms/step - loss: 0.4513 - accuracy: 0.9537 - val_loss: 0.4332 - val_accuracy: 0.8889\n",
            "Epoch 88/150\n",
            "4/4 [==============================] - 0s 9ms/step - loss: 0.4484 - accuracy: 0.9259 - val_loss: 0.4296 - val_accuracy: 0.8889\n",
            "Epoch 89/150\n",
            "4/4 [==============================] - 0s 10ms/step - loss: 0.4468 - accuracy: 0.8981 - val_loss: 0.4270 - val_accuracy: 0.8519\n",
            "Epoch 90/150\n",
            "4/4 [==============================] - 0s 11ms/step - loss: 0.4459 - accuracy: 0.8704 - val_loss: 0.4247 - val_accuracy: 0.8519\n",
            "Epoch 91/150\n",
            "4/4 [==============================] - 0s 11ms/step - loss: 0.4444 - accuracy: 0.8704 - val_loss: 0.4231 - val_accuracy: 0.8889\n",
            "Epoch 92/150\n",
            "4/4 [==============================] - 0s 9ms/step - loss: 0.4411 - accuracy: 0.9167 - val_loss: 0.4216 - val_accuracy: 0.8889\n",
            "Epoch 93/150\n",
            "4/4 [==============================] - 0s 8ms/step - loss: 0.4390 - accuracy: 0.9259 - val_loss: 0.4198 - val_accuracy: 0.8889\n",
            "Epoch 94/150\n",
            "4/4 [==============================] - 0s 8ms/step - loss: 0.4362 - accuracy: 0.9259 - val_loss: 0.4186 - val_accuracy: 0.8889\n",
            "Epoch 95/150\n",
            "4/4 [==============================] - 0s 8ms/step - loss: 0.4344 - accuracy: 0.9444 - val_loss: 0.4172 - val_accuracy: 0.9259\n",
            "Epoch 96/150\n",
            "4/4 [==============================] - 0s 9ms/step - loss: 0.4324 - accuracy: 0.9537 - val_loss: 0.4157 - val_accuracy: 0.9259\n",
            "Epoch 97/150\n",
            "4/4 [==============================] - 0s 9ms/step - loss: 0.4305 - accuracy: 0.9537 - val_loss: 0.4139 - val_accuracy: 0.9259\n",
            "Epoch 98/150\n",
            "4/4 [==============================] - 0s 8ms/step - loss: 0.4285 - accuracy: 0.9537 - val_loss: 0.4114 - val_accuracy: 0.9259\n",
            "Epoch 99/150\n",
            "4/4 [==============================] - 0s 9ms/step - loss: 0.4264 - accuracy: 0.9444 - val_loss: 0.4086 - val_accuracy: 0.8889\n",
            "Epoch 100/150\n",
            "4/4 [==============================] - 0s 11ms/step - loss: 0.4247 - accuracy: 0.9259 - val_loss: 0.4063 - val_accuracy: 0.8889\n",
            "Epoch 101/150\n",
            "4/4 [==============================] - 0s 9ms/step - loss: 0.4229 - accuracy: 0.9259 - val_loss: 0.4049 - val_accuracy: 0.8889\n",
            "Epoch 102/150\n",
            "4/4 [==============================] - 0s 10ms/step - loss: 0.4204 - accuracy: 0.9444 - val_loss: 0.4031 - val_accuracy: 0.8889\n",
            "Epoch 103/150\n",
            "4/4 [==============================] - 0s 9ms/step - loss: 0.4190 - accuracy: 0.9537 - val_loss: 0.4017 - val_accuracy: 0.9259\n",
            "Epoch 104/150\n",
            "4/4 [==============================] - 0s 8ms/step - loss: 0.4166 - accuracy: 0.9537 - val_loss: 0.3997 - val_accuracy: 0.9259\n",
            "Epoch 105/150\n",
            "4/4 [==============================] - 0s 9ms/step - loss: 0.4149 - accuracy: 0.9537 - val_loss: 0.3977 - val_accuracy: 0.9259\n",
            "Epoch 106/150\n",
            "4/4 [==============================] - 0s 9ms/step - loss: 0.4128 - accuracy: 0.9537 - val_loss: 0.3955 - val_accuracy: 0.8889\n",
            "Epoch 107/150\n",
            "4/4 [==============================] - 0s 8ms/step - loss: 0.4120 - accuracy: 0.9352 - val_loss: 0.3928 - val_accuracy: 0.8889\n",
            "Epoch 108/150\n",
            "4/4 [==============================] - 0s 9ms/step - loss: 0.4094 - accuracy: 0.9259 - val_loss: 0.3910 - val_accuracy: 0.8889\n",
            "Epoch 109/150\n",
            "4/4 [==============================] - 0s 9ms/step - loss: 0.4070 - accuracy: 0.9352 - val_loss: 0.3897 - val_accuracy: 0.8889\n",
            "Epoch 110/150\n",
            "4/4 [==============================] - 0s 9ms/step - loss: 0.4053 - accuracy: 0.9537 - val_loss: 0.3890 - val_accuracy: 0.9259\n",
            "Epoch 111/150\n",
            "4/4 [==============================] - 0s 10ms/step - loss: 0.4036 - accuracy: 0.9722 - val_loss: 0.3873 - val_accuracy: 0.9259\n",
            "Epoch 112/150\n",
            "4/4 [==============================] - 0s 9ms/step - loss: 0.4018 - accuracy: 0.9630 - val_loss: 0.3853 - val_accuracy: 0.9259\n",
            "Epoch 113/150\n",
            "4/4 [==============================] - 0s 9ms/step - loss: 0.3999 - accuracy: 0.9537 - val_loss: 0.3833 - val_accuracy: 0.9259\n",
            "Epoch 114/150\n",
            "4/4 [==============================] - 0s 9ms/step - loss: 0.3979 - accuracy: 0.9537 - val_loss: 0.3808 - val_accuracy: 0.8889\n",
            "Epoch 115/150\n",
            "4/4 [==============================] - 0s 10ms/step - loss: 0.3966 - accuracy: 0.9537 - val_loss: 0.3791 - val_accuracy: 0.8889\n",
            "Epoch 116/150\n",
            "4/4 [==============================] - 0s 14ms/step - loss: 0.3945 - accuracy: 0.9537 - val_loss: 0.3774 - val_accuracy: 0.8889\n",
            "Epoch 117/150\n",
            "4/4 [==============================] - 0s 9ms/step - loss: 0.3934 - accuracy: 0.9352 - val_loss: 0.3755 - val_accuracy: 0.8889\n",
            "Epoch 118/150\n",
            "4/4 [==============================] - 0s 10ms/step - loss: 0.3911 - accuracy: 0.9537 - val_loss: 0.3747 - val_accuracy: 0.9259\n",
            "Epoch 119/150\n",
            "4/4 [==============================] - 0s 10ms/step - loss: 0.3898 - accuracy: 0.9630 - val_loss: 0.3735 - val_accuracy: 0.9259\n",
            "Epoch 120/150\n",
            "4/4 [==============================] - 0s 10ms/step - loss: 0.3886 - accuracy: 0.9537 - val_loss: 0.3711 - val_accuracy: 0.9259\n",
            "Epoch 121/150\n",
            "4/4 [==============================] - 0s 9ms/step - loss: 0.3857 - accuracy: 0.9537 - val_loss: 0.3696 - val_accuracy: 0.9259\n",
            "Epoch 122/150\n",
            "4/4 [==============================] - 0s 9ms/step - loss: 0.3841 - accuracy: 0.9537 - val_loss: 0.3679 - val_accuracy: 0.9259\n",
            "Epoch 123/150\n",
            "4/4 [==============================] - 0s 10ms/step - loss: 0.3824 - accuracy: 0.9537 - val_loss: 0.3664 - val_accuracy: 0.9259\n",
            "Epoch 124/150\n",
            "4/4 [==============================] - 0s 9ms/step - loss: 0.3814 - accuracy: 0.9630 - val_loss: 0.3647 - val_accuracy: 0.9259\n",
            "Epoch 125/150\n",
            "4/4 [==============================] - 0s 8ms/step - loss: 0.3795 - accuracy: 0.9444 - val_loss: 0.3624 - val_accuracy: 0.8889\n",
            "Epoch 126/150\n",
            "4/4 [==============================] - 0s 11ms/step - loss: 0.3780 - accuracy: 0.9352 - val_loss: 0.3608 - val_accuracy: 0.8889\n",
            "Epoch 127/150\n",
            "4/4 [==============================] - 0s 11ms/step - loss: 0.3774 - accuracy: 0.9259 - val_loss: 0.3591 - val_accuracy: 0.8889\n",
            "Epoch 128/150\n",
            "4/4 [==============================] - 0s 9ms/step - loss: 0.3748 - accuracy: 0.9352 - val_loss: 0.3577 - val_accuracy: 0.8889\n",
            "Epoch 129/150\n",
            "4/4 [==============================] - 0s 8ms/step - loss: 0.3740 - accuracy: 0.9537 - val_loss: 0.3572 - val_accuracy: 0.9259\n",
            "Epoch 130/150\n",
            "4/4 [==============================] - 0s 8ms/step - loss: 0.3710 - accuracy: 0.9722 - val_loss: 0.3558 - val_accuracy: 0.9259\n",
            "Epoch 131/150\n",
            "4/4 [==============================] - 0s 9ms/step - loss: 0.3693 - accuracy: 0.9722 - val_loss: 0.3556 - val_accuracy: 0.9630\n",
            "Epoch 132/150\n",
            "4/4 [==============================] - 0s 10ms/step - loss: 0.3683 - accuracy: 0.9722 - val_loss: 0.3551 - val_accuracy: 1.0000\n",
            "Epoch 133/150\n",
            "4/4 [==============================] - 0s 9ms/step - loss: 0.3668 - accuracy: 0.9815 - val_loss: 0.3536 - val_accuracy: 1.0000\n",
            "Epoch 134/150\n",
            "4/4 [==============================] - 0s 10ms/step - loss: 0.3652 - accuracy: 0.9815 - val_loss: 0.3514 - val_accuracy: 0.9630\n",
            "Epoch 135/150\n",
            "4/4 [==============================] - 0s 8ms/step - loss: 0.3631 - accuracy: 0.9722 - val_loss: 0.3487 - val_accuracy: 0.9630\n",
            "Epoch 136/150\n",
            "4/4 [==============================] - 0s 9ms/step - loss: 0.3620 - accuracy: 0.9722 - val_loss: 0.3462 - val_accuracy: 0.9259\n",
            "Epoch 137/150\n",
            "4/4 [==============================] - 0s 8ms/step - loss: 0.3596 - accuracy: 0.9722 - val_loss: 0.3448 - val_accuracy: 0.9259\n",
            "Epoch 138/150\n",
            "4/4 [==============================] - 0s 10ms/step - loss: 0.3582 - accuracy: 0.9630 - val_loss: 0.3429 - val_accuracy: 0.9259\n",
            "Epoch 139/150\n",
            "4/4 [==============================] - 0s 9ms/step - loss: 0.3567 - accuracy: 0.9630 - val_loss: 0.3417 - val_accuracy: 0.9259\n",
            "Epoch 140/150\n",
            "4/4 [==============================] - 0s 9ms/step - loss: 0.3558 - accuracy: 0.9630 - val_loss: 0.3400 - val_accuracy: 0.9259\n",
            "Epoch 141/150\n",
            "4/4 [==============================] - 0s 9ms/step - loss: 0.3536 - accuracy: 0.9722 - val_loss: 0.3391 - val_accuracy: 0.9259\n",
            "Epoch 142/150\n",
            "4/4 [==============================] - 0s 9ms/step - loss: 0.3517 - accuracy: 0.9722 - val_loss: 0.3376 - val_accuracy: 0.9259\n",
            "Epoch 143/150\n",
            "4/4 [==============================] - 0s 9ms/step - loss: 0.3506 - accuracy: 0.9722 - val_loss: 0.3367 - val_accuracy: 0.9630\n",
            "Epoch 144/150\n",
            "4/4 [==============================] - 0s 9ms/step - loss: 0.3491 - accuracy: 0.9722 - val_loss: 0.3347 - val_accuracy: 0.9259\n",
            "Epoch 145/150\n",
            "4/4 [==============================] - 0s 8ms/step - loss: 0.3471 - accuracy: 0.9722 - val_loss: 0.3333 - val_accuracy: 0.9259\n",
            "Epoch 146/150\n",
            "4/4 [==============================] - 0s 9ms/step - loss: 0.3462 - accuracy: 0.9722 - val_loss: 0.3318 - val_accuracy: 0.9259\n",
            "Epoch 147/150\n",
            "4/4 [==============================] - 0s 9ms/step - loss: 0.3444 - accuracy: 0.9722 - val_loss: 0.3313 - val_accuracy: 0.9630\n",
            "Epoch 148/150\n",
            "4/4 [==============================] - 0s 8ms/step - loss: 0.3437 - accuracy: 0.9815 - val_loss: 0.3308 - val_accuracy: 0.9630\n",
            "Epoch 149/150\n",
            "4/4 [==============================] - 0s 9ms/step - loss: 0.3414 - accuracy: 0.9815 - val_loss: 0.3290 - val_accuracy: 0.9630\n",
            "Epoch 150/150\n",
            "4/4 [==============================] - 0s 11ms/step - loss: 0.3397 - accuracy: 0.9722 - val_loss: 0.3266 - val_accuracy: 0.9259\n"
          ]
        }
      ]
    },
    {
      "cell_type": "markdown",
      "source": [
        "## Summary"
      ],
      "metadata": {
        "id": "t2l6tNDnL5LO"
      }
    },
    {
      "cell_type": "code",
      "source": [
        "model.summary()"
      ],
      "metadata": {
        "colab": {
          "base_uri": "https://localhost:8080/"
        },
        "id": "Xu6tWOXiLL8i",
        "outputId": "b8f7e1d6-05be-43fa-dd7f-7e344faec2d7"
      },
      "execution_count": 26,
      "outputs": [
        {
          "output_type": "stream",
          "name": "stdout",
          "text": [
            "Model: \"sequential\"\n",
            "_________________________________________________________________\n",
            " Layer (type)                Output Shape              Param #   \n",
            "=================================================================\n",
            " dense (Dense)               (None, 16)                80        \n",
            "                                                                 \n",
            " dense_1 (Dense)             (None, 3)                 51        \n",
            "                                                                 \n",
            "=================================================================\n",
            "Total params: 131\n",
            "Trainable params: 131\n",
            "Non-trainable params: 0\n",
            "_________________________________________________________________\n"
          ]
        }
      ]
    },
    {
      "cell_type": "markdown",
      "source": [
        "16*4(weight)+16(bias)=80\n",
        "\n",
        "\n",
        "16*3(weight)+3=51"
      ],
      "metadata": {
        "id": "4o2ZX-ZJNe-v"
      }
    },
    {
      "cell_type": "markdown",
      "source": [
        "## Test"
      ],
      "metadata": {
        "id": "4I48vYNeN18-"
      }
    },
    {
      "cell_type": "code",
      "source": [
        "#summarize history for accuracy\n",
        "plt.plot(history.history[\"accuracy\"])\n",
        "plt.plot(history.history[\"val_accuracy\"])\n",
        "plt.title(\"model accuracy\")\n",
        "plt.ylabel(\"accuracy\")\n",
        "plt.xlabel(\"epoch\")\n",
        "plt.legend(['train','test'],loc='upper left')\n",
        "plt.show()"
      ],
      "metadata": {
        "colab": {
          "base_uri": "https://localhost:8080/",
          "height": 295
        },
        "id": "-9rpzndoL8T_",
        "outputId": "30e727f0-7353-4dd3-86c2-f505d63ddb90"
      },
      "execution_count": 29,
      "outputs": [
        {
          "output_type": "display_data",
          "data": {
            "text/plain": [
              "<Figure size 432x288 with 1 Axes>"
            ],
            "image/png": "[encoded data removed]"
          },
          "metadata": {
            "needs_background": "light"
          }
        }
      ]
    },
    {
      "cell_type": "code",
      "source": [
        "#summarize history for loss\n",
        "plt.plot(history.history[\"loss\"])\n",
        "plt.plot(history.history[\"val_loss\"])\n",
        "plt.title(\"model loss\")\n",
        "plt.ylabel(\"Loss\")\n",
        "plt.xlabel(\"epoch\")\n",
        "plt.legend(['train','test'],loc='upper left')\n",
        "plt.show()"
      ],
      "metadata": {
        "colab": {
          "base_uri": "https://localhost:8080/",
          "height": 295
        },
        "id": "YGhE3vBLOk3m",
        "outputId": "8f2a6f9a-4929-4e1f-931e-641c4fa3ab8e"
      },
      "execution_count": 30,
      "outputs": [
        {
          "output_type": "display_data",
          "data": {
            "text/plain": [
              "<Figure size 432x288 with 1 Axes>"
            ],
            "image/png": "[encoded data removed]"
          },
          "metadata": {
            "needs_background": "light"
          }
        }
      ]
    },
    {
      "cell_type": "code",
      "source": [
        ""
      ],
      "metadata": {
        "id": "z-_isNtaPZmT"
      },
      "execution_count": null,
      "outputs": []
    }
  ]
}